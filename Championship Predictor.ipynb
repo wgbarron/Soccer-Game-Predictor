{
 "cells": [
  {
   "cell_type": "markdown",
   "metadata": {},
   "source": [
    "# Championship Predictor"
   ]
  },
  {
   "cell_type": "markdown",
   "metadata": {},
   "source": [
    "The goal of this project will be to see how well I can train different machine learning models to predict the outcome of Championship games in the English second division given match statistics of the game including variables such as: total shots, shots on target, corner, fouls committed, and freekicks commited for each team.\n",
    "\n",
    "I will first train the models based on match statistics only then I will compare how the models perform when I include the odds on each game made by various betting companies.\n",
    "\n",
    "With my previous knowledge of how much luck plays a part in the outcomes of games, I predict that it will be hard for a machine learning model to predict the outcome just based of off match statistics. I think the models will have at best around 50% accuracy."
   ]
  },
  {
   "cell_type": "markdown",
   "metadata": {},
   "source": [
    "The first step in this process will be to import the necessary packages and read the [data](https://www.football-data.co.uk/data.php) provided from football-data.co.uk and preprocess the data so that it will be ready to train the models I chose."
   ]
  },
  {
   "cell_type": "code",
   "execution_count": 53,
   "metadata": {},
   "outputs": [],
   "source": [
    "import pandas as pd\n",
    "import sklearn\n",
    "from sklearn import preprocessing\n",
    "from sklearn.svm import SVC\n",
    "from sklearn.model_selection import train_test_split, cross_val_score\n",
    "from sklearn.decomposition import PCA\n",
    "from sklearn.linear_model import LinearRegression as LinReg\n",
    "from sklearn.neighbors import KNeighborsClassifier\n",
    "import numpy as np\n",
    "import matplotlib.pyplot as plt\n",
    "import time\n",
    "from sklearn.metrics import accuracy_score, confusion_matrix\n",
    "import seaborn as sns"
   ]
  },
  {
   "cell_type": "code",
   "execution_count": 54,
   "metadata": {},
   "outputs": [],
   "source": [
    "#Here I will import the last five years of data collected from the Championiship league\n",
    "df1 = pd.read_csv('E1.csv')\n",
    "df2 = pd.read_csv('E1 (2).csv')\n",
    "df3 = pd.read_csv('E1 (3).csv')\n",
    "df4 = pd.read_csv('E1 (4).csv')"
   ]
  },
  {
   "cell_type": "markdown",
   "metadata": {},
   "source": [
    "Now I will put together all of the dataframes together"
   ]
  },
  {
   "cell_type": "code",
   "execution_count": 55,
   "metadata": {
    "scrolled": true
   },
   "outputs": [],
   "source": [
    "data = [df1,df2,df3,df4]\n",
    "data = pd.concat(data, sort = False)"
   ]
  },
  {
   "cell_type": "markdown",
   "metadata": {},
   "source": [
    "Now I will seperate the match statistics from the dataframe in order to not rely on different betting companies' betting odds on each game."
   ]
  },
  {
   "cell_type": "code",
   "execution_count": 56,
   "metadata": {},
   "outputs": [],
   "source": [
    "data = data.iloc[:,:23]"
   ]
  },
  {
   "cell_type": "markdown",
   "metadata": {},
   "source": [
    "Now I will check to see if all of the possible data is filled out which is to say I will find out if there are any existing NaN values."
   ]
  },
  {
   "cell_type": "code",
   "execution_count": 57,
   "metadata": {},
   "outputs": [
    {
     "data": {
      "text/plain": [
       "Div         0\n",
       "Date        0\n",
       "HomeTeam    0\n",
       "AwayTeam    0\n",
       "FTHG        0\n",
       "FTAG        0\n",
       "FTR         0\n",
       "HTHG        1\n",
       "HTAG        1\n",
       "HTR         1\n",
       "Referee     1\n",
       "HS          1\n",
       "AS          1\n",
       "HST         1\n",
       "AST         1\n",
       "HF          1\n",
       "AF          1\n",
       "HC          1\n",
       "AC          1\n",
       "HY          1\n",
       "AY          1\n",
       "HR          1\n",
       "AR          1\n",
       "dtype: int64"
      ]
     },
     "execution_count": 57,
     "metadata": {},
     "output_type": "execute_result"
    }
   ],
   "source": [
    "data.isna().sum()"
   ]
  },
  {
   "cell_type": "markdown",
   "metadata": {},
   "source": [
    "Here it looks like there is probably just one match that is missing the data so we will get rid of this game and reset the index to account for the newly missing index."
   ]
  },
  {
   "cell_type": "code",
   "execution_count": 58,
   "metadata": {},
   "outputs": [
    {
     "data": {
      "text/html": [
       "<div>\n",
       "<style scoped>\n",
       "    .dataframe tbody tr th:only-of-type {\n",
       "        vertical-align: middle;\n",
       "    }\n",
       "\n",
       "    .dataframe tbody tr th {\n",
       "        vertical-align: top;\n",
       "    }\n",
       "\n",
       "    .dataframe thead th {\n",
       "        text-align: right;\n",
       "    }\n",
       "</style>\n",
       "<table border=\"1\" class=\"dataframe\">\n",
       "  <thead>\n",
       "    <tr style=\"text-align: right;\">\n",
       "      <th></th>\n",
       "      <th>index</th>\n",
       "      <th>Div</th>\n",
       "      <th>Date</th>\n",
       "      <th>HomeTeam</th>\n",
       "      <th>AwayTeam</th>\n",
       "      <th>FTHG</th>\n",
       "      <th>FTAG</th>\n",
       "      <th>FTR</th>\n",
       "      <th>HTHG</th>\n",
       "      <th>HTAG</th>\n",
       "      <th>...</th>\n",
       "      <th>HST</th>\n",
       "      <th>AST</th>\n",
       "      <th>HF</th>\n",
       "      <th>AF</th>\n",
       "      <th>HC</th>\n",
       "      <th>AC</th>\n",
       "      <th>HY</th>\n",
       "      <th>AY</th>\n",
       "      <th>HR</th>\n",
       "      <th>AR</th>\n",
       "    </tr>\n",
       "  </thead>\n",
       "  <tbody>\n",
       "    <tr>\n",
       "      <td>0</td>\n",
       "      <td>0</td>\n",
       "      <td>E1</td>\n",
       "      <td>03/08/2018</td>\n",
       "      <td>Reading</td>\n",
       "      <td>Derby</td>\n",
       "      <td>1</td>\n",
       "      <td>2</td>\n",
       "      <td>A</td>\n",
       "      <td>0.0</td>\n",
       "      <td>0.0</td>\n",
       "      <td>...</td>\n",
       "      <td>5.0</td>\n",
       "      <td>3.0</td>\n",
       "      <td>14.0</td>\n",
       "      <td>16.0</td>\n",
       "      <td>2.0</td>\n",
       "      <td>4.0</td>\n",
       "      <td>3.0</td>\n",
       "      <td>4.0</td>\n",
       "      <td>0.0</td>\n",
       "      <td>0.0</td>\n",
       "    </tr>\n",
       "    <tr>\n",
       "      <td>1</td>\n",
       "      <td>1</td>\n",
       "      <td>E1</td>\n",
       "      <td>04/08/2018</td>\n",
       "      <td>Birmingham</td>\n",
       "      <td>Norwich</td>\n",
       "      <td>2</td>\n",
       "      <td>2</td>\n",
       "      <td>D</td>\n",
       "      <td>0.0</td>\n",
       "      <td>0.0</td>\n",
       "      <td>...</td>\n",
       "      <td>7.0</td>\n",
       "      <td>7.0</td>\n",
       "      <td>15.0</td>\n",
       "      <td>10.0</td>\n",
       "      <td>4.0</td>\n",
       "      <td>4.0</td>\n",
       "      <td>0.0</td>\n",
       "      <td>3.0</td>\n",
       "      <td>0.0</td>\n",
       "      <td>0.0</td>\n",
       "    </tr>\n",
       "    <tr>\n",
       "      <td>2</td>\n",
       "      <td>2</td>\n",
       "      <td>E1</td>\n",
       "      <td>04/08/2018</td>\n",
       "      <td>Brentford</td>\n",
       "      <td>Rotherham</td>\n",
       "      <td>5</td>\n",
       "      <td>1</td>\n",
       "      <td>H</td>\n",
       "      <td>2.0</td>\n",
       "      <td>0.0</td>\n",
       "      <td>...</td>\n",
       "      <td>10.0</td>\n",
       "      <td>5.0</td>\n",
       "      <td>15.0</td>\n",
       "      <td>10.0</td>\n",
       "      <td>13.0</td>\n",
       "      <td>3.0</td>\n",
       "      <td>0.0</td>\n",
       "      <td>2.0</td>\n",
       "      <td>0.0</td>\n",
       "      <td>0.0</td>\n",
       "    </tr>\n",
       "    <tr>\n",
       "      <td>3</td>\n",
       "      <td>3</td>\n",
       "      <td>E1</td>\n",
       "      <td>04/08/2018</td>\n",
       "      <td>Bristol City</td>\n",
       "      <td>Nott'm Forest</td>\n",
       "      <td>1</td>\n",
       "      <td>1</td>\n",
       "      <td>D</td>\n",
       "      <td>1.0</td>\n",
       "      <td>0.0</td>\n",
       "      <td>...</td>\n",
       "      <td>6.0</td>\n",
       "      <td>6.0</td>\n",
       "      <td>8.0</td>\n",
       "      <td>17.0</td>\n",
       "      <td>7.0</td>\n",
       "      <td>9.0</td>\n",
       "      <td>0.0</td>\n",
       "      <td>4.0</td>\n",
       "      <td>0.0</td>\n",
       "      <td>0.0</td>\n",
       "    </tr>\n",
       "    <tr>\n",
       "      <td>4</td>\n",
       "      <td>4</td>\n",
       "      <td>E1</td>\n",
       "      <td>04/08/2018</td>\n",
       "      <td>Ipswich</td>\n",
       "      <td>Blackburn</td>\n",
       "      <td>2</td>\n",
       "      <td>2</td>\n",
       "      <td>D</td>\n",
       "      <td>1.0</td>\n",
       "      <td>2.0</td>\n",
       "      <td>...</td>\n",
       "      <td>3.0</td>\n",
       "      <td>2.0</td>\n",
       "      <td>11.0</td>\n",
       "      <td>21.0</td>\n",
       "      <td>3.0</td>\n",
       "      <td>0.0</td>\n",
       "      <td>2.0</td>\n",
       "      <td>3.0</td>\n",
       "      <td>0.0</td>\n",
       "      <td>0.0</td>\n",
       "    </tr>\n",
       "    <tr>\n",
       "      <td>...</td>\n",
       "      <td>...</td>\n",
       "      <td>...</td>\n",
       "      <td>...</td>\n",
       "      <td>...</td>\n",
       "      <td>...</td>\n",
       "      <td>...</td>\n",
       "      <td>...</td>\n",
       "      <td>...</td>\n",
       "      <td>...</td>\n",
       "      <td>...</td>\n",
       "      <td>...</td>\n",
       "      <td>...</td>\n",
       "      <td>...</td>\n",
       "      <td>...</td>\n",
       "      <td>...</td>\n",
       "      <td>...</td>\n",
       "      <td>...</td>\n",
       "      <td>...</td>\n",
       "      <td>...</td>\n",
       "      <td>...</td>\n",
       "      <td>...</td>\n",
       "    </tr>\n",
       "    <tr>\n",
       "      <td>2202</td>\n",
       "      <td>547</td>\n",
       "      <td>E1</td>\n",
       "      <td>07/05/16</td>\n",
       "      <td>Middlesbrough</td>\n",
       "      <td>Brighton</td>\n",
       "      <td>1</td>\n",
       "      <td>1</td>\n",
       "      <td>D</td>\n",
       "      <td>1.0</td>\n",
       "      <td>0.0</td>\n",
       "      <td>...</td>\n",
       "      <td>5.0</td>\n",
       "      <td>1.0</td>\n",
       "      <td>13.0</td>\n",
       "      <td>16.0</td>\n",
       "      <td>4.0</td>\n",
       "      <td>4.0</td>\n",
       "      <td>0.0</td>\n",
       "      <td>3.0</td>\n",
       "      <td>0.0</td>\n",
       "      <td>1.0</td>\n",
       "    </tr>\n",
       "    <tr>\n",
       "      <td>2203</td>\n",
       "      <td>548</td>\n",
       "      <td>E1</td>\n",
       "      <td>07/05/16</td>\n",
       "      <td>Milton Keynes Dons</td>\n",
       "      <td>Nott'm Forest</td>\n",
       "      <td>1</td>\n",
       "      <td>2</td>\n",
       "      <td>A</td>\n",
       "      <td>1.0</td>\n",
       "      <td>1.0</td>\n",
       "      <td>...</td>\n",
       "      <td>4.0</td>\n",
       "      <td>5.0</td>\n",
       "      <td>10.0</td>\n",
       "      <td>12.0</td>\n",
       "      <td>7.0</td>\n",
       "      <td>5.0</td>\n",
       "      <td>0.0</td>\n",
       "      <td>1.0</td>\n",
       "      <td>0.0</td>\n",
       "      <td>1.0</td>\n",
       "    </tr>\n",
       "    <tr>\n",
       "      <td>2204</td>\n",
       "      <td>549</td>\n",
       "      <td>E1</td>\n",
       "      <td>07/05/16</td>\n",
       "      <td>Preston</td>\n",
       "      <td>Leeds</td>\n",
       "      <td>1</td>\n",
       "      <td>1</td>\n",
       "      <td>D</td>\n",
       "      <td>0.0</td>\n",
       "      <td>0.0</td>\n",
       "      <td>...</td>\n",
       "      <td>5.0</td>\n",
       "      <td>2.0</td>\n",
       "      <td>10.0</td>\n",
       "      <td>9.0</td>\n",
       "      <td>7.0</td>\n",
       "      <td>6.0</td>\n",
       "      <td>0.0</td>\n",
       "      <td>0.0</td>\n",
       "      <td>0.0</td>\n",
       "      <td>0.0</td>\n",
       "    </tr>\n",
       "    <tr>\n",
       "      <td>2205</td>\n",
       "      <td>550</td>\n",
       "      <td>E1</td>\n",
       "      <td>07/05/16</td>\n",
       "      <td>QPR</td>\n",
       "      <td>Bristol City</td>\n",
       "      <td>1</td>\n",
       "      <td>0</td>\n",
       "      <td>H</td>\n",
       "      <td>0.0</td>\n",
       "      <td>0.0</td>\n",
       "      <td>...</td>\n",
       "      <td>6.0</td>\n",
       "      <td>2.0</td>\n",
       "      <td>12.0</td>\n",
       "      <td>12.0</td>\n",
       "      <td>7.0</td>\n",
       "      <td>11.0</td>\n",
       "      <td>0.0</td>\n",
       "      <td>0.0</td>\n",
       "      <td>0.0</td>\n",
       "      <td>0.0</td>\n",
       "    </tr>\n",
       "    <tr>\n",
       "      <td>2206</td>\n",
       "      <td>551</td>\n",
       "      <td>E1</td>\n",
       "      <td>07/05/16</td>\n",
       "      <td>Wolves</td>\n",
       "      <td>Sheffield Weds</td>\n",
       "      <td>2</td>\n",
       "      <td>1</td>\n",
       "      <td>H</td>\n",
       "      <td>2.0</td>\n",
       "      <td>0.0</td>\n",
       "      <td>...</td>\n",
       "      <td>1.0</td>\n",
       "      <td>3.0</td>\n",
       "      <td>13.0</td>\n",
       "      <td>7.0</td>\n",
       "      <td>4.0</td>\n",
       "      <td>8.0</td>\n",
       "      <td>0.0</td>\n",
       "      <td>0.0</td>\n",
       "      <td>0.0</td>\n",
       "      <td>0.0</td>\n",
       "    </tr>\n",
       "  </tbody>\n",
       "</table>\n",
       "<p>2207 rows × 24 columns</p>\n",
       "</div>"
      ],
      "text/plain": [
       "      index Div        Date            HomeTeam        AwayTeam  FTHG  FTAG  \\\n",
       "0         0  E1  03/08/2018             Reading           Derby     1     2   \n",
       "1         1  E1  04/08/2018          Birmingham         Norwich     2     2   \n",
       "2         2  E1  04/08/2018           Brentford       Rotherham     5     1   \n",
       "3         3  E1  04/08/2018        Bristol City   Nott'm Forest     1     1   \n",
       "4         4  E1  04/08/2018             Ipswich       Blackburn     2     2   \n",
       "...     ...  ..         ...                 ...             ...   ...   ...   \n",
       "2202    547  E1    07/05/16       Middlesbrough        Brighton     1     1   \n",
       "2203    548  E1    07/05/16  Milton Keynes Dons   Nott'm Forest     1     2   \n",
       "2204    549  E1    07/05/16             Preston           Leeds     1     1   \n",
       "2205    550  E1    07/05/16                 QPR    Bristol City     1     0   \n",
       "2206    551  E1    07/05/16              Wolves  Sheffield Weds     2     1   \n",
       "\n",
       "     FTR  HTHG  HTAG  ...   HST  AST    HF    AF    HC    AC   HY   AY   HR  \\\n",
       "0      A   0.0   0.0  ...   5.0  3.0  14.0  16.0   2.0   4.0  3.0  4.0  0.0   \n",
       "1      D   0.0   0.0  ...   7.0  7.0  15.0  10.0   4.0   4.0  0.0  3.0  0.0   \n",
       "2      H   2.0   0.0  ...  10.0  5.0  15.0  10.0  13.0   3.0  0.0  2.0  0.0   \n",
       "3      D   1.0   0.0  ...   6.0  6.0   8.0  17.0   7.0   9.0  0.0  4.0  0.0   \n",
       "4      D   1.0   2.0  ...   3.0  2.0  11.0  21.0   3.0   0.0  2.0  3.0  0.0   \n",
       "...   ..   ...   ...  ...   ...  ...   ...   ...   ...   ...  ...  ...  ...   \n",
       "2202   D   1.0   0.0  ...   5.0  1.0  13.0  16.0   4.0   4.0  0.0  3.0  0.0   \n",
       "2203   A   1.0   1.0  ...   4.0  5.0  10.0  12.0   7.0   5.0  0.0  1.0  0.0   \n",
       "2204   D   0.0   0.0  ...   5.0  2.0  10.0   9.0   7.0   6.0  0.0  0.0  0.0   \n",
       "2205   H   0.0   0.0  ...   6.0  2.0  12.0  12.0   7.0  11.0  0.0  0.0  0.0   \n",
       "2206   H   2.0   0.0  ...   1.0  3.0  13.0   7.0   4.0   8.0  0.0  0.0  0.0   \n",
       "\n",
       "       AR  \n",
       "0     0.0  \n",
       "1     0.0  \n",
       "2     0.0  \n",
       "3     0.0  \n",
       "4     0.0  \n",
       "...   ...  \n",
       "2202  1.0  \n",
       "2203  1.0  \n",
       "2204  0.0  \n",
       "2205  0.0  \n",
       "2206  0.0  \n",
       "\n",
       "[2207 rows x 24 columns]"
      ]
     },
     "execution_count": 58,
     "metadata": {},
     "output_type": "execute_result"
    }
   ],
   "source": [
    "data.dropna(axis=0,how='any',inplace = True)\n",
    "data = data.reset_index() #Reset indices to accomodate \n",
    "data"
   ]
  },
  {
   "cell_type": "markdown",
   "metadata": {},
   "source": [
    "As expected only one game was removed."
   ]
  },
  {
   "cell_type": "markdown",
   "metadata": {},
   "source": [
    "Now I will remove the \"index\" and \"Div\" columns since all teams are in the same division and the index column is redundant"
   ]
  },
  {
   "cell_type": "code",
   "execution_count": 59,
   "metadata": {},
   "outputs": [],
   "source": [
    "data = data.iloc[:,2:]"
   ]
  },
  {
   "cell_type": "markdown",
   "metadata": {},
   "source": [
    "Here I will separate the final result as well as the full time home and away goals since these are things I will want to predict. I will also remove the date since the problem I am focussing on is solely whether or not the statistics from a game are good predictors of the outcome of the game."
   ]
  },
  {
   "cell_type": "code",
   "execution_count": 60,
   "metadata": {},
   "outputs": [],
   "source": [
    "#Label encoding the results\n",
    "Result = {\"HTR\":{'H': 1, 'D': 0, 'A':-1},\n",
    "         \"FTR\":{'H': 1, 'D': 0, 'A':-1}}\n",
    "data.replace(Result,inplace=True)\n"
   ]
  },
  {
   "cell_type": "code",
   "execution_count": 61,
   "metadata": {},
   "outputs": [],
   "source": [
    "FTR = data['FTR']\n",
    "FTR=pd.DataFrame(FTR)\n",
    "match_data = data.drop(['FTHG', 'FTAG', 'FTR','Date'],axis=1)"
   ]
  },
  {
   "cell_type": "markdown",
   "metadata": {},
   "source": [
    "Now I will label encode all of the teams and the referee names by first joining them all into one array and then using label_encoder on them so that each unique value will have its own label."
   ]
  },
  {
   "cell_type": "code",
   "execution_count": 62,
   "metadata": {},
   "outputs": [
    {
     "name": "stdout",
     "output_type": "stream",
     "text": [
      "{'Aston Villa': 0, 'Barnsley': 1, 'Birmingham': 2, 'Blackburn': 3, 'Bolton': 4, 'Brentford': 5, 'Brighton': 6, 'Bristol City': 7, 'Burnley': 8, 'Burton': 9, 'Cardiff': 10, 'Charlton': 11, 'Derby': 12, 'Fulham': 13, 'Huddersfield': 14, 'Hull': 15, 'Ipswich': 16, 'Leeds': 17, 'Middlesbrough': 18, 'Millwall': 19, 'Milton Keynes Dons': 20, 'Newcastle': 21, 'Norwich': 22, \"Nott'm Forest\": 23, 'Preston': 24, 'QPR': 25, 'Reading': 26, 'Rotherham': 27, 'Sheffield United': 28, 'Sheffield Weds': 29, 'Stoke': 30, 'Sunderland': 31, 'Swansea': 32, 'West Brom': 33, 'Wigan': 34, 'Wolves': 35}\n"
     ]
    }
   ],
   "source": [
    "home = match_data['HomeTeam']\n",
    "away = match_data['AwayTeam']\n",
    "reff = match_data['Referee']\n",
    "labeltheseteams = home.append(away)\n",
    "label_encoder = preprocessing.LabelEncoder()\n",
    "labeled_reffs = label_encoder.fit_transform(reff)\n",
    "labeled_teams = label_encoder.fit_transform(labeltheseteams)\n",
    "homeID = labeled_teams[:2207]\n",
    "homeID = pd.DataFrame(homeID)\n",
    "homeID.rename(columns={0:'HomeID'}, inplace=True)\n",
    "awayID = labeled_teams[2207:]\n",
    "awayID = pd.DataFrame(awayID)\n",
    "awayID.rename(columns={0:'AwayID'}, inplace=True)\n",
    "reffID = labeled_reffs\n",
    "reffID = pd.DataFrame(reffID)\n",
    "reffID.rename(columns={0:'ReffID'}, inplace=True)\n",
    "match_data = pd.concat([homeID, awayID, reffID, match_data], axis=1)\n",
    "d = dict(zip(label_encoder.classes_,label_encoder.transform(label_encoder.classes_)))\n",
    "print(d)  #Here I am printing the values of the lebel encoded teams so that I can reference \n",
    "          #them later."
   ]
  },
  {
   "cell_type": "markdown",
   "metadata": {},
   "source": [
    "Now the match_data contains all of the information we want for out model"
   ]
  },
  {
   "cell_type": "markdown",
   "metadata": {},
   "source": [
    "Now I'll specify what it is we want to find which is the full time result"
   ]
  },
  {
   "cell_type": "code",
   "execution_count": 63,
   "metadata": {},
   "outputs": [],
   "source": [
    "#Here I drop the original columns that I coppied and made into label encoded data\n",
    "match_data = match_data.drop(['HomeTeam', 'AwayTeam', 'Referee'],axis=1)"
   ]
  },
  {
   "cell_type": "markdown",
   "metadata": {},
   "source": [
    "# ML method 1 : SVM"
   ]
  },
  {
   "cell_type": "code",
   "execution_count": 64,
   "metadata": {},
   "outputs": [
    {
     "data": {
      "text/html": [
       "<div>\n",
       "<style scoped>\n",
       "    .dataframe tbody tr th:only-of-type {\n",
       "        vertical-align: middle;\n",
       "    }\n",
       "\n",
       "    .dataframe tbody tr th {\n",
       "        vertical-align: top;\n",
       "    }\n",
       "\n",
       "    .dataframe thead th {\n",
       "        text-align: right;\n",
       "    }\n",
       "</style>\n",
       "<table border=\"1\" class=\"dataframe\">\n",
       "  <thead>\n",
       "    <tr style=\"text-align: right;\">\n",
       "      <th></th>\n",
       "      <th>HomeID</th>\n",
       "      <th>AwayID</th>\n",
       "      <th>ReffID</th>\n",
       "      <th>HTHG</th>\n",
       "      <th>HTAG</th>\n",
       "      <th>HTR</th>\n",
       "      <th>HS</th>\n",
       "      <th>AS</th>\n",
       "      <th>HST</th>\n",
       "      <th>AST</th>\n",
       "      <th>HF</th>\n",
       "      <th>AF</th>\n",
       "      <th>HC</th>\n",
       "      <th>AC</th>\n",
       "      <th>HY</th>\n",
       "      <th>AY</th>\n",
       "      <th>HR</th>\n",
       "      <th>AR</th>\n",
       "    </tr>\n",
       "  </thead>\n",
       "  <tbody>\n",
       "    <tr>\n",
       "      <td>0</td>\n",
       "      <td>26</td>\n",
       "      <td>12</td>\n",
       "      <td>65</td>\n",
       "      <td>0.0</td>\n",
       "      <td>0.0</td>\n",
       "      <td>0</td>\n",
       "      <td>8.0</td>\n",
       "      <td>11.0</td>\n",
       "      <td>5.0</td>\n",
       "      <td>3.0</td>\n",
       "      <td>14.0</td>\n",
       "      <td>16.0</td>\n",
       "      <td>2.0</td>\n",
       "      <td>4.0</td>\n",
       "      <td>3.0</td>\n",
       "      <td>4.0</td>\n",
       "      <td>0.0</td>\n",
       "      <td>0.0</td>\n",
       "    </tr>\n",
       "    <tr>\n",
       "      <td>1</td>\n",
       "      <td>2</td>\n",
       "      <td>22</td>\n",
       "      <td>59</td>\n",
       "      <td>0.0</td>\n",
       "      <td>0.0</td>\n",
       "      <td>0</td>\n",
       "      <td>16.0</td>\n",
       "      <td>16.0</td>\n",
       "      <td>7.0</td>\n",
       "      <td>7.0</td>\n",
       "      <td>15.0</td>\n",
       "      <td>10.0</td>\n",
       "      <td>4.0</td>\n",
       "      <td>4.0</td>\n",
       "      <td>0.0</td>\n",
       "      <td>3.0</td>\n",
       "      <td>0.0</td>\n",
       "      <td>0.0</td>\n",
       "    </tr>\n",
       "    <tr>\n",
       "      <td>2</td>\n",
       "      <td>5</td>\n",
       "      <td>27</td>\n",
       "      <td>58</td>\n",
       "      <td>2.0</td>\n",
       "      <td>0.0</td>\n",
       "      <td>1</td>\n",
       "      <td>14.0</td>\n",
       "      <td>9.0</td>\n",
       "      <td>10.0</td>\n",
       "      <td>5.0</td>\n",
       "      <td>15.0</td>\n",
       "      <td>10.0</td>\n",
       "      <td>13.0</td>\n",
       "      <td>3.0</td>\n",
       "      <td>0.0</td>\n",
       "      <td>2.0</td>\n",
       "      <td>0.0</td>\n",
       "      <td>0.0</td>\n",
       "    </tr>\n",
       "    <tr>\n",
       "      <td>3</td>\n",
       "      <td>7</td>\n",
       "      <td>23</td>\n",
       "      <td>13</td>\n",
       "      <td>1.0</td>\n",
       "      <td>0.0</td>\n",
       "      <td>1</td>\n",
       "      <td>18.0</td>\n",
       "      <td>16.0</td>\n",
       "      <td>6.0</td>\n",
       "      <td>6.0</td>\n",
       "      <td>8.0</td>\n",
       "      <td>17.0</td>\n",
       "      <td>7.0</td>\n",
       "      <td>9.0</td>\n",
       "      <td>0.0</td>\n",
       "      <td>4.0</td>\n",
       "      <td>0.0</td>\n",
       "      <td>0.0</td>\n",
       "    </tr>\n",
       "    <tr>\n",
       "      <td>4</td>\n",
       "      <td>16</td>\n",
       "      <td>3</td>\n",
       "      <td>0</td>\n",
       "      <td>1.0</td>\n",
       "      <td>2.0</td>\n",
       "      <td>-1</td>\n",
       "      <td>9.0</td>\n",
       "      <td>6.0</td>\n",
       "      <td>3.0</td>\n",
       "      <td>2.0</td>\n",
       "      <td>11.0</td>\n",
       "      <td>21.0</td>\n",
       "      <td>3.0</td>\n",
       "      <td>0.0</td>\n",
       "      <td>2.0</td>\n",
       "      <td>3.0</td>\n",
       "      <td>0.0</td>\n",
       "      <td>0.0</td>\n",
       "    </tr>\n",
       "    <tr>\n",
       "      <td>...</td>\n",
       "      <td>...</td>\n",
       "      <td>...</td>\n",
       "      <td>...</td>\n",
       "      <td>...</td>\n",
       "      <td>...</td>\n",
       "      <td>...</td>\n",
       "      <td>...</td>\n",
       "      <td>...</td>\n",
       "      <td>...</td>\n",
       "      <td>...</td>\n",
       "      <td>...</td>\n",
       "      <td>...</td>\n",
       "      <td>...</td>\n",
       "      <td>...</td>\n",
       "      <td>...</td>\n",
       "      <td>...</td>\n",
       "      <td>...</td>\n",
       "      <td>...</td>\n",
       "    </tr>\n",
       "    <tr>\n",
       "      <td>2202</td>\n",
       "      <td>18</td>\n",
       "      <td>6</td>\n",
       "      <td>51</td>\n",
       "      <td>1.0</td>\n",
       "      <td>0.0</td>\n",
       "      <td>1</td>\n",
       "      <td>13.0</td>\n",
       "      <td>7.0</td>\n",
       "      <td>5.0</td>\n",
       "      <td>1.0</td>\n",
       "      <td>13.0</td>\n",
       "      <td>16.0</td>\n",
       "      <td>4.0</td>\n",
       "      <td>4.0</td>\n",
       "      <td>0.0</td>\n",
       "      <td>3.0</td>\n",
       "      <td>0.0</td>\n",
       "      <td>1.0</td>\n",
       "    </tr>\n",
       "    <tr>\n",
       "      <td>2203</td>\n",
       "      <td>20</td>\n",
       "      <td>23</td>\n",
       "      <td>73</td>\n",
       "      <td>1.0</td>\n",
       "      <td>1.0</td>\n",
       "      <td>0</td>\n",
       "      <td>20.0</td>\n",
       "      <td>10.0</td>\n",
       "      <td>4.0</td>\n",
       "      <td>5.0</td>\n",
       "      <td>10.0</td>\n",
       "      <td>12.0</td>\n",
       "      <td>7.0</td>\n",
       "      <td>5.0</td>\n",
       "      <td>0.0</td>\n",
       "      <td>1.0</td>\n",
       "      <td>0.0</td>\n",
       "      <td>1.0</td>\n",
       "    </tr>\n",
       "    <tr>\n",
       "      <td>2204</td>\n",
       "      <td>24</td>\n",
       "      <td>17</td>\n",
       "      <td>6</td>\n",
       "      <td>0.0</td>\n",
       "      <td>0.0</td>\n",
       "      <td>0</td>\n",
       "      <td>16.0</td>\n",
       "      <td>10.0</td>\n",
       "      <td>5.0</td>\n",
       "      <td>2.0</td>\n",
       "      <td>10.0</td>\n",
       "      <td>9.0</td>\n",
       "      <td>7.0</td>\n",
       "      <td>6.0</td>\n",
       "      <td>0.0</td>\n",
       "      <td>0.0</td>\n",
       "      <td>0.0</td>\n",
       "      <td>0.0</td>\n",
       "    </tr>\n",
       "    <tr>\n",
       "      <td>2205</td>\n",
       "      <td>25</td>\n",
       "      <td>7</td>\n",
       "      <td>35</td>\n",
       "      <td>0.0</td>\n",
       "      <td>0.0</td>\n",
       "      <td>0</td>\n",
       "      <td>17.0</td>\n",
       "      <td>17.0</td>\n",
       "      <td>6.0</td>\n",
       "      <td>2.0</td>\n",
       "      <td>12.0</td>\n",
       "      <td>12.0</td>\n",
       "      <td>7.0</td>\n",
       "      <td>11.0</td>\n",
       "      <td>0.0</td>\n",
       "      <td>0.0</td>\n",
       "      <td>0.0</td>\n",
       "      <td>0.0</td>\n",
       "    </tr>\n",
       "    <tr>\n",
       "      <td>2206</td>\n",
       "      <td>35</td>\n",
       "      <td>29</td>\n",
       "      <td>13</td>\n",
       "      <td>2.0</td>\n",
       "      <td>0.0</td>\n",
       "      <td>1</td>\n",
       "      <td>7.0</td>\n",
       "      <td>15.0</td>\n",
       "      <td>1.0</td>\n",
       "      <td>3.0</td>\n",
       "      <td>13.0</td>\n",
       "      <td>7.0</td>\n",
       "      <td>4.0</td>\n",
       "      <td>8.0</td>\n",
       "      <td>0.0</td>\n",
       "      <td>0.0</td>\n",
       "      <td>0.0</td>\n",
       "      <td>0.0</td>\n",
       "    </tr>\n",
       "  </tbody>\n",
       "</table>\n",
       "<p>2207 rows × 18 columns</p>\n",
       "</div>"
      ],
      "text/plain": [
       "      HomeID  AwayID  ReffID  HTHG  HTAG  HTR    HS    AS   HST  AST    HF  \\\n",
       "0         26      12      65   0.0   0.0    0   8.0  11.0   5.0  3.0  14.0   \n",
       "1          2      22      59   0.0   0.0    0  16.0  16.0   7.0  7.0  15.0   \n",
       "2          5      27      58   2.0   0.0    1  14.0   9.0  10.0  5.0  15.0   \n",
       "3          7      23      13   1.0   0.0    1  18.0  16.0   6.0  6.0   8.0   \n",
       "4         16       3       0   1.0   2.0   -1   9.0   6.0   3.0  2.0  11.0   \n",
       "...      ...     ...     ...   ...   ...  ...   ...   ...   ...  ...   ...   \n",
       "2202      18       6      51   1.0   0.0    1  13.0   7.0   5.0  1.0  13.0   \n",
       "2203      20      23      73   1.0   1.0    0  20.0  10.0   4.0  5.0  10.0   \n",
       "2204      24      17       6   0.0   0.0    0  16.0  10.0   5.0  2.0  10.0   \n",
       "2205      25       7      35   0.0   0.0    0  17.0  17.0   6.0  2.0  12.0   \n",
       "2206      35      29      13   2.0   0.0    1   7.0  15.0   1.0  3.0  13.0   \n",
       "\n",
       "        AF    HC    AC   HY   AY   HR   AR  \n",
       "0     16.0   2.0   4.0  3.0  4.0  0.0  0.0  \n",
       "1     10.0   4.0   4.0  0.0  3.0  0.0  0.0  \n",
       "2     10.0  13.0   3.0  0.0  2.0  0.0  0.0  \n",
       "3     17.0   7.0   9.0  0.0  4.0  0.0  0.0  \n",
       "4     21.0   3.0   0.0  2.0  3.0  0.0  0.0  \n",
       "...    ...   ...   ...  ...  ...  ...  ...  \n",
       "2202  16.0   4.0   4.0  0.0  3.0  0.0  1.0  \n",
       "2203  12.0   7.0   5.0  0.0  1.0  0.0  1.0  \n",
       "2204   9.0   7.0   6.0  0.0  0.0  0.0  0.0  \n",
       "2205  12.0   7.0  11.0  0.0  0.0  0.0  0.0  \n",
       "2206   7.0   4.0   8.0  0.0  0.0  0.0  0.0  \n",
       "\n",
       "[2207 rows x 18 columns]"
      ]
     },
     "execution_count": 64,
     "metadata": {},
     "output_type": "execute_result"
    }
   ],
   "source": [
    "match_data"
   ]
  },
  {
   "cell_type": "code",
   "execution_count": 77,
   "metadata": {},
   "outputs": [
    {
     "data": {
      "text/plain": [
       "0.6447963800904978"
      ]
     },
     "execution_count": 77,
     "metadata": {},
     "output_type": "execute_result"
    }
   ],
   "source": [
    "#Here I test the model by performing a simple train test split and \n",
    "#finding the accuracy to get a general idea of how well the model fairs:\n",
    "\n",
    "X_train, X_test, y_train, y_test = train_test_split(match_data, FTR.values.ravel(), test_size = 0.2)\n",
    "model_svm = SVC(kernel = 'linear')\n",
    "model_svm.fit(X_train, y_train)\n",
    "model_svm.score(X_test, y_test)"
   ]
  },
  {
   "cell_type": "code",
   "execution_count": 66,
   "metadata": {},
   "outputs": [
    {
     "data": {
      "text/plain": [
       "<matplotlib.axes._subplots.AxesSubplot at 0x2c6e2536248>"
      ]
     },
     "execution_count": 66,
     "metadata": {},
     "output_type": "execute_result"
    },
    {
     "data": {
      "image/png": "[encoded data removed]",
      "text/plain": [
       "<Figure size 432x288 with 1 Axes>"
      ]
     },
     "metadata": {
      "needs_background": "light"
     },
     "output_type": "display_data"
    }
   ],
   "source": [
    "pd.Series(abs(model_svm.coef_[0]), index=match_data.columns).nlargest(10).plot(kind='barh',color='green')"
   ]
  },
  {
   "cell_type": "markdown",
   "metadata": {},
   "source": [
    "Above we can see which features had the greatest importance in our model. As can be expected, the number of goals scored by each team would be a key factor in who the winner is at the end of the game."
   ]
  },
  {
   "cell_type": "code",
   "execution_count": 67,
   "metadata": {
    "scrolled": false
   },
   "outputs": [
    {
     "data": {
      "image/png": "[encoded data removed]",
      "text/plain": [
       "<Figure size 1000x700 with 2 Axes>"
      ]
     },
     "metadata": {
      "needs_background": "light"
     },
     "output_type": "display_data"
    }
   ],
   "source": [
    "pred = model_svm.predict(X_test)\n",
    "fig = plt.figure(figsize=(10,7), dpi=100)\n",
    "\n",
    "cm_heatmap = sns.heatmap(confusion_matrix(y_test,pred),annot = True, cmap=\"Greens\", linewidths = 2, square=True)\n",
    "\n",
    "xlabels = ['A','D','H']\n",
    "cm_heatmap.set_xticklabels(xlabels)\n",
    "ylabels = ['A','D','H']\n",
    "cm_heatmap.set_yticklabels(ylabels)\n",
    "\n",
    "cm_heatmap.set_ylim([0,3])\n",
    "cm_heatmap.invert_yaxis()\n",
    "\n",
    "cm_heatmap.set_title('Confusion Matrix Heatmap for SVM', fontsize=15, fontweight='bold')\n",
    "cm_heatmap.set_xlabel('Predicted Outcome', fontsize=15)\n",
    "cm_heatmap.set_ylabel('True Outcome', fontsize=15)\n",
    "cm_heatmap.xaxis.set_ticks_position('top')\n",
    "\n",
    "\n",
    "\n",
    "plt.show()"
   ]
  },
  {
   "cell_type": "markdown",
   "metadata": {},
   "source": [
    "Interestingly we can see that the model was best at predicting whether or not a team won, but struggled to predict draws.\n",
    "\n",
    "Note: The heatmap shows as cut-off on the top and bottom because of a current "
   ]
  },
  {
   "cell_type": "code",
   "execution_count": 68,
   "metadata": {
    "scrolled": true
   },
   "outputs": [
    {
     "name": "stdout",
     "output_type": "stream",
     "text": [
      "Accuracy:0.64 (+/- 0.06)\n"
     ]
    }
   ],
   "source": [
    "#Here I get a better gauge of how well the model performed by performing\n",
    "#Cross-Validation with 5 splits\n",
    "\n",
    "svm = SVC(kernel = 'linear')\n",
    "scores = cross_val_score(svm, match_data, FTR.values.ravel(), cv=10)\n",
    "print('Accuracy:%.02f (+/- %0.2f)'%(scores.mean(), scores.std()*2))"
   ]
  },
  {
   "cell_type": "markdown",
   "metadata": {},
   "source": [
    "64% is a rather good prediction accuracy score knowinghow random games can be and how many upsets happen a year. I would like ot look further and find out how important each feature is in making the predictions."
   ]
  },
  {
   "cell_type": "markdown",
   "metadata": {},
   "source": [
    "By using a SVM with a linear kernel type out model was able to reach about 64% accuracy. Out of interest I will perform PCA on the data to see if there is any imporvement."
   ]
  },
  {
   "cell_type": "code",
   "execution_count": 69,
   "metadata": {},
   "outputs": [],
   "source": [
    "normX = (match_data-match_data.mean())/match_data.std()\n",
    "X_PCA = PCA(n_components=0.90) #Specifying that we want to maintain 90% energy \n",
    "                               #capture of the original dataset.\n",
    "X_PCA = X_PCA.fit_transform(normX)\n",
    "X_PCAdf = pd.DataFrame(X_PCA)"
   ]
  },
  {
   "cell_type": "code",
   "execution_count": 70,
   "metadata": {},
   "outputs": [
    {
     "name": "stdout",
     "output_type": "stream",
     "text": [
      "Accuracy:0.63 (+/- 0.06)\n"
     ]
    }
   ],
   "source": [
    "scores_PCA = cross_val_score(svm, X_PCAdf, FTR.values.ravel(), cv=5)\n",
    "print('Accuracy:%.02f (+/- %0.2f)'%(scores_PCA.mean(), scores_PCA.std()*2))"
   ]
  },
  {
   "cell_type": "markdown",
   "metadata": {},
   "source": [
    "Interestingly PCA slightly decreased the accuracy of SVM. This may be explained by the fact there wasn't much need for further feature reduction/extraction and by reducing the features futher we lost important information."
   ]
  },
  {
   "cell_type": "markdown",
   "metadata": {},
   "source": [
    "# ML method 2 : K-NN "
   ]
  },
  {
   "cell_type": "code",
   "execution_count": 72,
   "metadata": {},
   "outputs": [
    {
     "data": {
      "image/png": "[encoded data removed]",
      "text/plain": [
       "<Figure size 432x288 with 1 Axes>"
      ]
     },
     "metadata": {
      "needs_background": "light"
     },
     "output_type": "display_data"
    }
   ],
   "source": [
    "#First I will find the best possible k value for K-NN\n",
    "\n",
    "k_values = [i for i in range(1,50)]\n",
    "k_acc_scores = []\n",
    "\n",
    "for k in k_values: #For K values ranging from 1 to 50\n",
    "    knn = KNeighborsClassifier(n_neighbors=k)\n",
    "    cv_scores = cross_val_score(knn, match_data, FTR.values.ravel(), cv = 5, \n",
    "                                scoring = 'accuracy')\n",
    "    k_acc_scores.append(cv_scores.mean())\n",
    "    \n",
    "optimal_k = k_values[k_acc_scores.index(max(k_acc_scores))]\n",
    "plt.plot(k_values, k_acc_scores, color = 'green')\n",
    "plt.grid(True)\n",
    "\n",
    "plt.xlabel('K-Values')\n",
    "plt.ylabel('Accuracy Score')\n",
    "\n",
    "plt.show()"
   ]
  },
  {
   "cell_type": "code",
   "execution_count": 73,
   "metadata": {},
   "outputs": [
    {
     "data": {
      "text/plain": [
       "35"
      ]
     },
     "execution_count": 73,
     "metadata": {},
     "output_type": "execute_result"
    }
   ],
   "source": [
    "optimal_k"
   ]
  },
  {
   "cell_type": "code",
   "execution_count": 74,
   "metadata": {},
   "outputs": [
    {
     "name": "stdout",
     "output_type": "stream",
     "text": [
      "Accuracy:0.46 (+/- 0.06)\n"
     ]
    }
   ],
   "source": [
    "KNN = KNeighborsClassifier(n_neighbors = 35)\n",
    "\n",
    "KNN_scores = cross_val_score(KNN, match_data, FTR.values.ravel(), cv = 10, scoring = 'accuracy')\n",
    "print('Accuracy:%.02f (+/- %0.2f)'%(KNN_scores.mean(), KNN_scores.std()*2))"
   ]
  },
  {
   "cell_type": "markdown",
   "metadata": {},
   "source": [
    "SVM is clearly better than KNN at predicting the outcomes of matches. "
   ]
  },
  {
   "cell_type": "markdown",
   "metadata": {},
   "source": [
    "# Method 3 : Linear Regression"
   ]
  },
  {
   "cell_type": "code",
   "execution_count": 76,
   "metadata": {},
   "outputs": [
    {
     "name": "stdout",
     "output_type": "stream",
     "text": [
      "Accuracy:0.45 (+/- 0.08)\n"
     ]
    }
   ],
   "source": [
    "LinearR = LinReg()\n",
    "LinReg_scores = cross_val_score(LinearR, match_data, FTR, cv=5)\n",
    "print('Accuracy:%.02f (+/- %0.2f)'%(LinReg_scores.mean(), LinReg_scores.std()*2))"
   ]
  },
  {
   "cell_type": "markdown",
   "metadata": {},
   "source": [
    "Here we can see that linear regression performed the worst out of the three methods."
   ]
  },
  {
   "cell_type": "markdown",
   "metadata": {},
   "source": [
    "# Conclusion"
   ]
  },
  {
   "cell_type": "markdown",
   "metadata": {},
   "source": [
    "Out of all the machine learning methods (SVM ~64%, K-NN ~46%, and Linear Regression ~45%) we can see that SVM by far was the best performing method.\n",
    "It is interesting to see that by using the match data we can predict the final result with over 50% accuracy which is better than I predicted.\n",
    "\n",
    "My prior knowledge of the sport made me  believe that getting a score of over 50% may be challenging because I know that the statistics of the game often don't tell the whole story. I knew that chance and luck are massive features in the sport of Soccer and it is interesting to see how well the models I trained performed. Furthermore, I also knew that home teams win about 46% of the time and this fact helps explain why my model was so good at predicted when the home team would win. \n",
    "\n",
    "Unfortunately the possession statistics weren't in the dataset. I have previously studied which statistcs show correlations with the end of game result and possession has been recorded to be a rather good one. In a future project I will try to find out if any single statistic such as possession, or half time result, will be enough to train a machine learning model to predict the outcome of a game with an accuracy score of hopefully over 50%."
   ]
  },
  {
   "cell_type": "code",
   "execution_count": null,
   "metadata": {},
   "outputs": [],
   "source": []
  }
 ],
 "metadata": {
  "kernelspec": {
   "display_name": "Python 3",
   "language": "python",
   "name": "python3"
  },
  "language_info": {
   "codemirror_mode": {
    "name": "ipython",
    "version": 3
   },
   "file_extension": ".py",
   "mimetype": "text/x-python",
   "name": "python",
   "nbconvert_exporter": "python",
   "pygments_lexer": "ipython3",
   "version": "3.7.4"
  }
 },
 "nbformat": 4,
 "nbformat_minor": 2
}
